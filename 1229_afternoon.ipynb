{
 "cells": [
  {
   "cell_type": "code",
   "execution_count": 16,
   "metadata": {},
   "outputs": [
    {
     "data": {
      "text/plain": [
       "['2019-10-12 11:56',\n",
       " '3399357',\n",
       " '본',\n",
       " 'S&',\n",
       " '185',\n",
       " 'GS  샵',\n",
       " '60440',\n",
       " '일시불(A)',\n",
       " '전표매입']"
      ]
     },
     "execution_count": 16,
     "metadata": {},
     "output_type": "execute_result"
    }
   ],
   "source": [
    "import csv\n",
    "\n",
    "\n",
    "# No such file or directory : 'card.csv' 해결법\n",
    "# 이 파일을 card.csv가 있는 폴더에 저장하든지\n",
    "# card.csv의 경로를 절대경로로 변경하든지\n",
    "\n",
    "\n",
    "file = r'./Lets-get-it-Python-Lecture/card.csv'\n",
    "f = open(file)              # 파일 오픈 \n",
    "data = csv.reader(f)        # 파일 읽기 reader\n",
    "next(data)                  # 파일 헤더 건너뛰기\n",
    "data = list(data)           # 파일 리스트로 바꾸기\n",
    "data[1]"
   ]
  },
  {
   "cell_type": "markdown",
   "metadata": {},
   "source": [
    "### [파일을 열기 전에 파일 존재 여부를 확인]\n",
    "- 학습 모듈\n",
    "    - os.listdir\n",
    "    - glob \n",
    "        - 두 개 학습하자\n",
    "        \n",
    "- 파일이 있는 경로에 내가 사용하고자 하는 파일명이 있는가를 체크\n",
    "    - 경로 내의 파일리스트를 가져와야 함 : fileList = os.listdir('.')\n",
    "    - 가져온 리스트에 검색하는 파일명이 있는가 : fileList.index('card.csv')\n",
    "        - 인덱스 명령은 위치값을 가져옴(0, 1, 2, 3 ...)\n",
    "        - 같은 자료가 없으면 그 어떤 값도 가져오질 못해서 에러가 남\n",
    "            - try ~ except 구문으로 해결"
   ]
  },
  {
   "cell_type": "code",
   "execution_count": 17,
   "metadata": {},
   "outputs": [
    {
     "name": "stdout",
     "output_type": "stream",
     "text": [
      "card.csv 있음\n"
     ]
    }
   ],
   "source": [
    "import os\n",
    "from glob import glob\n",
    "\n",
    "\n",
    "# 경로 없이    # 경로 없이   # 경로 포함 : (예) img/a.jpg가 있다면 glob('./img/*')  ==> \\\\img\\\\a.jpg (\\\\img\\\\ 가 나오는게 관건)\n",
    "# os.listdir('.'), glob('*'), glob('./*')\n",
    "\n",
    "\n",
    "findFile = 'card.csv'\n",
    "\n",
    "for i in os.listdir('.'):\n",
    "    if i == findFile:\n",
    "        print(findFile, '있음')\n",
    "        break\n"
   ]
  },
  {
   "cell_type": "code",
   "execution_count": 18,
   "metadata": {},
   "outputs": [
    {
     "name": "stdout",
     "output_type": "stream",
     "text": [
      "파일 있음\n"
     ]
    }
   ],
   "source": [
    "##################################\n",
    "### 리스트 내에서 값의 위치를 찾는 인덱스 함수가 있음\n",
    "### 이때 파일 없으면 에러가 표시됨으로 try~except 예외처리로 작업\n",
    "### try : 실행 except : 에러있을 때 실행\n",
    "##################################\n",
    "\n",
    "fileList=os.listdir('.')\n",
    "try:\n",
    "    findFile.index('card.csv')\n",
    "    print('파일 있음')\n",
    "except:\n",
    "    print('파일 없음')"
   ]
  },
  {
   "cell_type": "code",
   "execution_count": 19,
   "metadata": {},
   "outputs": [
    {
     "name": "stdout",
     "output_type": "stream",
     "text": [
      "card.csv 있음\n"
     ]
    }
   ],
   "source": [
    "############################\n",
    "## 위의 코드를 직접 작성한다면\n",
    "############################\n",
    "\n",
    "findFile = 'card.csv'\n",
    "chk = 0\n",
    "\n",
    "for i in os.listdir('.'):\n",
    "    if i==findFile:\n",
    "        print(findFile, '있음')\n",
    "        chk=1\n",
    "        break # 찾으면 break\n",
    "if chk==0: # 다 돌아도 없으면 chk가 0이니까\n",
    "    print('파일 없음')"
   ]
  },
  {
   "cell_type": "code",
   "execution_count": 20,
   "metadata": {},
   "outputs": [],
   "source": [
    "def findData(findFile):\n",
    "    import os\n",
    "    import glob\n",
    "\n",
    "    fileList=os.listdir('.')\n",
    "    try:\n",
    "        findFile.index(findFile)\n",
    "        print('파일 있음')\n",
    "        return 1\n",
    "\n",
    "    except:\n",
    "        print('파일 없음')\n",
    "        return 0"
   ]
  },
  {
   "cell_type": "markdown",
   "metadata": {},
   "source": [
    "파일이 있으면 리턴값을 주면 앞의 findData함수 쓰고 result값 비교해서 작업 시작 여부를 결정하는게 효율적\n"
   ]
  },
  {
   "cell_type": "code",
   "execution_count": 27,
   "metadata": {},
   "outputs": [
    {
     "name": "stdout",
     "output_type": "stream",
     "text": [
      "파일 있음\n",
      "파일 있음\n"
     ]
    }
   ],
   "source": [
    "import os\n",
    "\n",
    "findFile = 'card.csv'\n",
    "findData(findFile)\n",
    "\n",
    "result=findData(findFile)\n",
    "\n",
    "# import csv\n",
    "\n",
    "# #없으면 하지 말자->try\n",
    "# try:\n",
    "#     f = open(findFile)\n",
    "#     data = csv.reader(f)\n",
    "#     next(data)\n",
    "#     data = list(data)\n",
    "#     print(data[0])\n",
    "# except:\n",
    "#     print('작업 안함')"
   ]
  },
  {
   "cell_type": "code",
   "execution_count": 35,
   "metadata": {},
   "outputs": [
    {
     "data": {
      "text/plain": [
       "['2019-10-12 9:13',\n",
       " '1972753',\n",
       " '본',\n",
       " 'S&',\n",
       " '185',\n",
       " '네이버파이낸셜(주)',\n",
       " '546800',\n",
       " '일시불(A)',\n",
       " '부분취소']"
      ]
     },
     "execution_count": 35,
     "metadata": {},
     "output_type": "execute_result"
    }
   ],
   "source": [
    "import csv\n",
    "f = open('card.csv')\n",
    "data= csv.reader(f)\n",
    "\n",
    "next(data)          # data의 첫 번째 자료를 지나가자.\n",
    "                    # 이 작업이 없으면 리스트로 변환하고 0번 자료를 제외해야함\n",
    "\n",
    "list(data)[0]       # 위의 next(data) 때문에 헤더를 넘기고 2번째 행(1번 인덱스)부터만 자료가 표시됨"
   ]
  },
  {
   "cell_type": "markdown",
   "metadata": {},
   "source": [
    "- 헤더가 문자이고 데이터는 숫자로 되어있지만, 그 열의 데이터 타입은 문자열이다.\n",
    "- 따라서, 헤더를 넘기고 데이터를 int로 바꿔야 연산을 시킬 수 있는 것이다."
   ]
  },
  {
   "cell_type": "code",
   "execution_count": 46,
   "metadata": {},
   "outputs": [
    {
     "data": {
      "text/plain": [
       "['\\ufeff이용일시', '승인번호', '본인구분', '브랜드', '이용카드', '가맹점명', '이용금액', '이용구분', '매입상태']"
      ]
     },
     "execution_count": 46,
     "metadata": {},
     "output_type": "execute_result"
    }
   ],
   "source": [
    "import csv\n",
    "f = open('card.csv')\n",
    "data= csv.reader(f)\n",
    "\n",
    "# next(data)  \n",
    "\n",
    "# 헤더를 따로 넣어주기\n",
    "title=list(data)[0]\n",
    "title"
   ]
  },
  {
   "cell_type": "code",
   "execution_count": 48,
   "metadata": {},
   "outputs": [
    {
     "data": {
      "text/plain": [
       "[['2019-10-12 9:13',\n",
       "  '1972753',\n",
       "  '본',\n",
       "  'S&',\n",
       "  '185',\n",
       "  '네이버파이낸셜(주)',\n",
       "  '546800',\n",
       "  '일시불(A)',\n",
       "  '부분취소'],\n",
       " ['2019-10-12 11:56',\n",
       "  '3399357',\n",
       "  '본',\n",
       "  'S&',\n",
       "  '185',\n",
       "  'GS  샵',\n",
       "  '60440',\n",
       "  '일시불(A)',\n",
       "  '전표매입']]"
      ]
     },
     "execution_count": 48,
     "metadata": {},
     "output_type": "execute_result"
    }
   ],
   "source": [
    "# 문법상 오류로 따로 나눕니다..\n",
    "f = open('card.csv')\n",
    "data = csv.reader(f)\n",
    "data = list(data)[1:] # 1열 이후는 모두 데이터로 넣습니다\n",
    "data[:2]"
   ]
  },
  {
   "cell_type": "markdown",
   "metadata": {},
   "source": [
    "['2019-10-12 9:13',\n",
    "  '1972753',\n",
    "  '본',\n",
    "  'S&',\n",
    "  '185',\n",
    "  '네이버파이낸셜(주)',\n",
    "  '546800',\n",
    "  '일시불(A)',\n",
    "  '부분취소']\n",
    "\n",
    "이 리스트 중에 6번째 데이터를 원하니까 for 문 써서 각 리스트의 원소(이중리스트)마다 6번째 원소(일차원리스트)를 보는 것."
   ]
  },
  {
   "cell_type": "code",
   "execution_count": 52,
   "metadata": {},
   "outputs": [
    {
     "data": {
      "text/plain": [
       "11419825"
      ]
     },
     "execution_count": 52,
     "metadata": {},
     "output_type": "execute_result"
    }
   ],
   "source": [
    "# row는 아래와 같이 한 줄씩 읽어냄\n",
    "\n",
    "이용금액=[]\n",
    "\n",
    "for row in data:\n",
    "    이용금액.append(int(row[6]))\n",
    "# 이용금액.sum() -> list는 .sum()가 불가능 하다.\n",
    "sum(이용금액)"
   ]
  },
  {
   "cell_type": "code",
   "execution_count": 59,
   "metadata": {},
   "outputs": [
    {
     "data": {
      "text/plain": [
       "6"
      ]
     },
     "execution_count": 59,
     "metadata": {},
     "output_type": "execute_result"
    }
   ],
   "source": [
    "num = title.index('이용금액')   # 이용금액의 index 번호를 알아내려고 함\n",
    "num"
   ]
  },
  {
   "cell_type": "markdown",
   "metadata": {},
   "source": [
    "위에서 index로 찾아주면서 열을 하나하나 세지 않고 변수에 대입해서 밑의 코드에 적용"
   ]
  },
  {
   "cell_type": "code",
   "execution_count": 71,
   "metadata": {},
   "outputs": [
    {
     "name": "stdout",
     "output_type": "stream",
     "text": [
      "전체 합 11419825, 최소100, 최대546800, 평균48389.09\n"
     ]
    }
   ],
   "source": [
    "# 위의 코드를 리스트 컴프리헨션으로 변경\n",
    "\n",
    "이용금액 =[]\n",
    "\n",
    "# 이용금액 = [int(row[6]) for row in data]\n",
    "이용금액 = [int(row[num]) for row in data]  #코드압축(컴프리헨션)\n",
    "\n",
    "이용금액[:5], 이용금액[-5:] # 위 아래로 샘플 5개씩 보기\n",
    "# print('이용금액 합', sum(이용금액), '최소금액', min(이용금액), '최대금액',max(이용금액), '평균금액', sum(이용금액)/len(이용금액))\n",
    "print('전체 합 {}, 최소{}, 최대{}, 평균{:.2f}'.format(sum(이용금액), min(이용금액), max(이용금액), sum(이용금액)/len(이용금액)))"
   ]
  },
  {
   "cell_type": "code",
   "execution_count": 80,
   "metadata": {},
   "outputs": [
    {
     "data": {
      "text/plain": [
       "[<matplotlib.lines.Line2D at 0x1f05b8875c0>]"
      ]
     },
     "execution_count": 80,
     "metadata": {},
     "output_type": "execute_result"
    },
    {
     "data": {
      "image/png": "[encoded data removed]",
      "text/plain": [
       "<Figure size 640x480 with 1 Axes>"
      ]
     },
     "metadata": {},
     "output_type": "display_data"
    }
   ],
   "source": [
    "import matplotlib.pyplot as plt\n",
    "plt.plot(이용금액, \"bo\") # 점 단위로 데이터를 시각화"
   ]
  },
  {
   "cell_type": "code",
   "execution_count": 95,
   "metadata": {},
   "outputs": [
    {
     "data": {
      "text/plain": [
       "[['2019-10-12 9:13',\n",
       "  '1972753',\n",
       "  '본',\n",
       "  'S&',\n",
       "  '185',\n",
       "  '네이버파이낸셜(주)',\n",
       "  '546800',\n",
       "  '일시불(A)',\n",
       "  '부분취소'],\n",
       " ['2019-10-12 11:56',\n",
       "  '3399357',\n",
       "  '본',\n",
       "  'S&',\n",
       "  '185',\n",
       "  'GS  샵',\n",
       "  '60440',\n",
       "  '일시불(A)',\n",
       "  '전표매입']]"
      ]
     },
     "execution_count": 95,
     "metadata": {},
     "output_type": "execute_result"
    }
   ],
   "source": [
    "# 문법상 오류로 따로 나눕니다..\n",
    "f = open('card.csv')\n",
    "data = csv.reader(f)\n",
    "data = list(data)[1:] # 1열 이후는 모두 데이터로 넣습니다\n",
    "data[:2]"
   ]
  },
  {
   "cell_type": "markdown",
   "metadata": {},
   "source": [
    "지금 str 문자형이라서 연산 안되니 \n",
    "int 형으로 바꿔주어야 함"
   ]
  },
  {
   "cell_type": "code",
   "execution_count": 96,
   "metadata": {},
   "outputs": [
    {
     "ename": "TypeError",
     "evalue": "unsupported operand type(s) for +=: 'int' and 'str'",
     "output_type": "error",
     "traceback": [
      "\u001b[1;31m---------------------------------------------------------------------------\u001b[0m",
      "\u001b[1;31mTypeError\u001b[0m                                 Traceback (most recent call last)",
      "Cell \u001b[1;32mIn[96], line 8\u001b[0m\n\u001b[0;32m      5\u001b[0m spend\u001b[38;5;241m=\u001b[39m\u001b[38;5;241m0\u001b[39m\n\u001b[0;32m      7\u001b[0m \u001b[38;5;66;03m# 3개월간의 소비를 누적하기\u001b[39;00m\n\u001b[1;32m----> 8\u001b[0m \u001b[43mspend\u001b[49m\u001b[43m \u001b[49m\u001b[38;5;241;43m+\u001b[39;49m\u001b[38;5;241;43m=\u001b[39;49m\u001b[43m \u001b[49m\u001b[43mdata\u001b[49m\u001b[43m[\u001b[49m\u001b[38;5;241;43m0\u001b[39;49m\u001b[43m]\u001b[49m\u001b[43m[\u001b[49m\u001b[38;5;241;43m-\u001b[39;49m\u001b[38;5;241;43m3\u001b[39;49m\u001b[43m]\u001b[49m\n\u001b[0;32m      9\u001b[0m spend \u001b[38;5;241m+\u001b[39m\u001b[38;5;241m=\u001b[39m data[\u001b[38;5;241m1\u001b[39m][\u001b[38;5;241m-\u001b[39m\u001b[38;5;241m3\u001b[39m]\n\u001b[0;32m     10\u001b[0m spend \u001b[38;5;241m+\u001b[39m\u001b[38;5;241m=\u001b[39m data[\u001b[38;5;241m2\u001b[39m][\u001b[38;5;241m-\u001b[39m\u001b[38;5;241m3\u001b[39m]\n",
      "\u001b[1;31mTypeError\u001b[0m: unsupported operand type(s) for +=: 'int' and 'str'"
     ]
    }
   ],
   "source": [
    "# 처음부터 끝까지, 약 3개월간의 카드 사용 내역\n",
    "\n",
    "data[0][0], data[-1][0]\n",
    "\n",
    "spend=0\n",
    "\n",
    "# 3개월간의 소비를 누적하기\n",
    "spend += data[0][-3]\n",
    "spend += data[1][-3]\n",
    "spend += data[2][-3]"
   ]
  },
  {
   "cell_type": "code",
   "execution_count": 103,
   "metadata": {},
   "outputs": [
    {
     "name": "stdout",
     "output_type": "stream",
     "text": [
      "11419825\n"
     ]
    }
   ],
   "source": [
    "spend = 0\n",
    "\n",
    "for row in data : \n",
    "    spend += int(row[-3])\n",
    "\n",
    "print(spend)"
   ]
  },
  {
   "cell_type": "code",
   "execution_count": 99,
   "metadata": {},
   "outputs": [
    {
     "name": "stdout",
     "output_type": "stream",
     "text": [
      "{'전표매입', '부분취소', '승인취소', '매출취소'}\n"
     ]
    }
   ],
   "source": [
    "title\n",
    "\n",
    "전표구분 = [row[-1] for row in data]\n",
    "전표리스트 = set(전표구분)   # set은 중복제거이지만 이 자료는 인덱싱 안됨\n",
    "print(전표리스트)\n",
    "# 전표리스트[0]   # 에러"
   ]
  },
  {
   "cell_type": "markdown",
   "metadata": {},
   "source": [
    "위에 set으로 해서 중복제거 해줬지만 {} 인덱싱 안되니 리스트화..시켜서 인덱싱 하십쇼"
   ]
  },
  {
   "cell_type": "code",
   "execution_count": 112,
   "metadata": {},
   "outputs": [
    {
     "data": {
      "text/plain": [
       "[<matplotlib.lines.Line2D at 0x1f059b9f440>]"
      ]
     },
     "execution_count": 112,
     "metadata": {},
     "output_type": "execute_result"
    },
    {
     "data": {
      "image/png": "[encoded data removed]",
      "text/plain": [
       "<Figure size 640x480 with 1 Axes>"
      ]
     },
     "metadata": {},
     "output_type": "display_data"
    }
   ],
   "source": [
    "## 전표매입 리스트\n",
    "# 전표매입에 관련된 이용금액만\n",
    "\n",
    "plt.rcParams['font.family'] = 'Malgun Gothic'\n",
    "\n",
    "전표매입리스트=[]\n",
    "\n",
    "for row in data:\n",
    "    if row[-1]=='전표매입':\n",
    "        전표매입리스트.append(int(row[6]))  #row[6]는 문자이기 때문에 숫자로 변경해줘야 함\n",
    "\n",
    "# plt.title(len(전표매입리스트))\n",
    "plt.title('전표매입한 이용금액')\n",
    "plt.plot(전표매입리스트, 'o', color='pink') # 점단위로 데이터 시각화"
   ]
  },
  {
   "cell_type": "code",
   "execution_count": 115,
   "metadata": {},
   "outputs": [
    {
     "data": {
      "text/plain": [
       "[<matplotlib.lines.Line2D at 0x1f05d5b7230>]"
      ]
     },
     "execution_count": 115,
     "metadata": {},
     "output_type": "execute_result"
    },
    {
     "data": {
      "image/png": "[encoded data removed]",
      "text/plain": [
       "<Figure size 640x480 with 1 Axes>"
      ]
     },
     "metadata": {},
     "output_type": "display_data"
    }
   ],
   "source": [
    "매출취소리스트=[]\n",
    "\n",
    "for row in data:\n",
    "    if row[-1]=='매출취소':\n",
    "        매출취소리스트.append(int(row[6])) \n",
    "\n",
    "승인취소리스트 = []\n",
    "for row in data:\n",
    "    if row[-1]=='매출취소':\n",
    "        승인취소리스트.append(int(row[6])) \n",
    "\n",
    "## 점점 많아지니까 전표구분 딕셔너리를 만들어버리고..\n",
    "\n",
    "전표구분딕셔너리 = {'전표매입 리스트':전표매입리스트, '매출취소 이용금액':매출취소리스트,\n",
    "            '승인취소 이용금액':승인취소리스트}\n",
    "\n",
    "자료 = 전표구분딕셔너리['매출취소 이용금액'] # 매출 취소 이용금액만 보고 싶다면 리스트 읽어오면 된다.\n",
    "\n",
    "plt.plot(자료, 'o', color='purple')"
   ]
  },
  {
   "cell_type": "markdown",
   "metadata": {},
   "source": [
    "#### 딕셔너리로 가지고 있어야만 추후에 csv 등으로 넘길 때 편하다"
   ]
  },
  {
   "cell_type": "code",
   "execution_count": null,
   "metadata": {},
   "outputs": [],
   "source": []
  }
 ],
 "metadata": {
  "kernelspec": {
   "display_name": "OpenAI",
   "language": "python",
   "name": "python3"
  },
  "language_info": {
   "codemirror_mode": {
    "name": "ipython",
    "version": 3
   },
   "file_extension": ".py",
   "mimetype": "text/x-python",
   "name": "python",
   "nbconvert_exporter": "python",
   "pygments_lexer": "ipython3",
   "version": "3.12.0"
  }
 },
 "nbformat": 4,
 "nbformat_minor": 2
}
