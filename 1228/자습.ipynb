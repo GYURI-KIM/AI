{
 "cells": [
  {
   "cell_type": "markdown",
   "metadata": {},
   "source": [
    "## 교재 p.275~\n",
    "### 1번. 2개의 리스트로 도서 제목과 도서 가격을 관리하려고 한다. 도서 제목을 저장하는 리스트는 book_name이고, 도서 가격을 저장하는 리스트는 book_price이다. book_name[0]에 저장된 도서의 가격은 book_price[0]에, book_name[1] 도서의 가격은 book_price[1]에 저장하는 방식으로 도서 제목과 가격을 저장한다.\n",
    "\n",
    "|[0]|[1]|[2]|\n",
    "|---|---|---|\n",
    "|역사탐험대|파이썬|학습법|\n",
    "\n",
    "### 정리한 내용을 이차원 리스트로 만들면 다음과 같다."
   ]
  },
  {
   "cell_type": "code",
   "execution_count": 9,
   "metadata": {},
   "outputs": [],
   "source": [
    "import random\n",
    "book_list = '역사탐험대,파이썬,학습법,영단어,여행에세이,삼국지' #리스트에 들어있음\n",
    "book_name = book_list.split(',')\n",
    "book_price = []"
   ]
  },
  {
   "cell_type": "code",
   "execution_count": 12,
   "metadata": {},
   "outputs": [
    {
     "name": "stdout",
     "output_type": "stream",
     "text": [
      "역사탐험대 책은  22922 원 입니다.\n",
      "파이썬 책은  23228 원 입니다.\n",
      "학습법 책은  18964 원 입니다.\n",
      "영단어 책은  23883 원 입니다.\n",
      "여행에세이 책은  20268 원 입니다.\n"
     ]
    }
   ],
   "source": [
    "# 1. book_name이 코드와 같을 때 15,000원 ~ 25,000원 사이의 무작위 정수를 book_price에 도서 가격으로 추가하는 코드를 이어서 작성하라.\n",
    "# 그리고 book_name과 book_price를 출력하라.\n",
    "\n",
    "\n",
    "for i in range(len(book_name)-1):\n",
    "    book_price.append(random.randrange(15000, 25000)) # 25000도 포함인지는 잘 모르겠음;\n",
    "    print(book_name[i], '책은 ' ,book_price[i],'원 입니다.', end='\\n')"
   ]
  },
  {
   "cell_type": "code",
   "execution_count": 17,
   "metadata": {},
   "outputs": [
    {
     "name": "stdout",
     "output_type": "stream",
     "text": [
      "가장 비싼 책은 삼국지 입니다.\n"
     ]
    }
   ],
   "source": [
    "# 2. 가장 비싼 가격의 도서 제목을 출력해보세요.\n",
    "book_data = tuple(zip(book_name, book_price))\n",
    "highest_price_index = max(book_data, key=lambda x:x[1]) # 람다 함수를 이용해서 튜플의 두 번째 요소(가격)를 기준으로 최댓값 찾기\n",
    "# highest_price_index 의 자료형은 튜플\n",
    "\n",
    "highest_book_name = highest_price_index[0]\n",
    "print('가장 비싼 책은',highest_book_name,'입니다.')"
   ]
  },
  {
   "cell_type": "markdown",
   "metadata": {},
   "source": [
    "## 2. 다음 그림은 오디션 프로그램 참가자들의 순위표 입니다.\n",
    "\n",
    "|순위|참가자|이번 주 득표수|지난 주 득표수|\n",
    "|---|---|---|---|\n",
    "|1|라이언|956412|564553|\n",
    "|2|니니즈|861832|927175|\n",
    "|3|어피치|796354|593175|\n",
    "|4|프로도|534840|864326|\n",
    "|5|네오|387896|648367|\n",
    "\n",
    "### 이 표를 이차원 리스트로 만들면 다음과 같습니다. 이 코드를 바탕으로 물음에 답하세요"
   ]
  },
  {
   "cell_type": "code",
   "execution_count": null,
   "metadata": {},
   "outputs": [],
   "source": [
    "ranking = [[1, '라이언', 956412, 564553],\n",
    "           [2, '니니즈', 861832, 927175],\n",
    "           [3, '어피치', 796354, 593175],\n",
    "           [4, '프로도', 534840, 864326],\n",
    "           [5, '네오', 387896, 648367]]\n",
    "\n",
    "# 1. 참가자의 순위-이름을 쌍으로 한 번에 출력하는 코드를 작성하세요.\n"
   ]
  },
  {
   "cell_type": "code",
   "execution_count": 18,
   "metadata": {},
   "outputs": [],
   "source": [
    "# 이번 주 득표수가 50만 표가 넘는 참가자의 이름과 이번 주 득표수를 같이 출력하세요"
   ]
  },
  {
   "cell_type": "code",
   "execution_count": null,
   "metadata": {},
   "outputs": [],
   "source": [
    "# 3. 지난주보다 득표수가 떨어진 참가자가 누구인지 득표수가 얼마나 떨어졌는지를 출력하세요"
   ]
  },
  {
   "cell_type": "code",
   "execution_count": null,
   "metadata": {},
   "outputs": [],
   "source": [
    "# 4. 지난주와 이번 주 득표수 중 한 번이라도 80만 표를 넘은 참가자를 출력하세요."
   ]
  }
 ],
 "metadata": {
  "kernelspec": {
   "display_name": "OpenAI",
   "language": "python",
   "name": "python3"
  },
  "language_info": {
   "codemirror_mode": {
    "name": "ipython",
    "version": 3
   },
   "file_extension": ".py",
   "mimetype": "text/x-python",
   "name": "python",
   "nbconvert_exporter": "python",
   "pygments_lexer": "ipython3",
   "version": "3.12.0"
  }
 },
 "nbformat": 4,
 "nbformat_minor": 2
}
