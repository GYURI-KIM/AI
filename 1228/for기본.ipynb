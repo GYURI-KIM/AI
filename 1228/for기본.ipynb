{
 "cells": [
  {
   "cell_type": "code",
   "execution_count": 10,
   "metadata": {},
   "outputs": [
    {
     "data": {
      "text/plain": [
       "0.4274735761500559"
      ]
     },
     "execution_count": 10,
     "metadata": {},
     "output_type": "execute_result"
    }
   ],
   "source": [
    "import random\n",
    "\n",
    "random.random()\n",
    "\n",
    "# random.randrange(1, 5)"
   ]
  },
  {
   "cell_type": "code",
   "execution_count": 9,
   "metadata": {},
   "outputs": [
    {
     "name": "stdout",
     "output_type": "stream",
     "text": [
      "25\n",
      "24\n",
      "43\n",
      "39\n",
      "38\n",
      "44\n"
     ]
    }
   ],
   "source": [
    "# 복원 추출 비복원 추출\n",
    "\n",
    "# 복원 추출(같은 값 나올 수 있음)\n",
    "for i in range(6):\n",
    "    num = random.randrange(1, 46)  #복원추출\n",
    "    print(num, end='\\n')"
   ]
  },
  {
   "cell_type": "code",
   "execution_count": null,
   "metadata": {},
   "outputs": [],
   "source": [
    "#비복원 추출\n",
    "random.choice(5, 5, replace=False)\n"
   ]
  },
  {
   "cell_type": "code",
   "execution_count": 16,
   "metadata": {},
   "outputs": [
    {
     "name": "stdout",
     "output_type": "stream",
     "text": [
      "1 번 월 김지영\n",
      "2 번  화 한가람\n",
      "3 번  수 정민우\n",
      "4 번  목 정민우\n",
      "5 번  금 박수진\n"
     ]
    }
   ],
   "source": [
    "# 이름 뽑기\n",
    "\n",
    "\n",
    "# 이름 리스트 만들기\n",
    "name ='김지영,이승호,박수진,정민우,한가람,최재원,송지은,강태현,문서현,윤하린'\n",
    "name_list = name.split(',')\n",
    "day_list = '월, 화, 수, 목, 금'.split(',')\n",
    "name_len = len(name_list)\n",
    "\n",
    "#한 명 뽑아서 요일과 매치\n",
    "#enumerate는 자동으로 0, 1, 2, 3.. 숫자값을 갖게 함\n",
    "#enumerate()함수는 기본적으로 인덱스와 원소로 이루어진 튜플로 만들어줌.\n",
    "#-> 인덱스와 원소를 각각 다른 변수에 할당하고 싶다면 인자 풀기(unpacking)를 해야 함\n",
    "for cnt, i in enumerate(day_list): \n",
    "    #시드로 설정하니 고정값이 나옴.\n",
    "    # randomNum = random.randint(1, name_len)\n",
    "    # namePrn = name_list[randomNum]\n",
    "    namePrn = random.choice(name_list)\n",
    "    print(cnt+1, '번', i, namePrn)"
   ]
  },
  {
   "cell_type": "code",
   "execution_count": 17,
   "metadata": {},
   "outputs": [
    {
     "name": "stdout",
     "output_type": "stream",
     "text": [
      "가 목\n",
      "나 금\n",
      "다 토\n",
      "라 일\n"
     ]
    }
   ],
   "source": [
    "#python의 zip -> 두 개 이상의 자료를 보낼 수 있다\n",
    "\n",
    "nameList = '가 나 다 라'.split(' ')\n",
    "dayList = '목 금 토 일'.split(' ')\n",
    "\n",
    "for name, day in zip(nameList, dayList):\n",
    "    print(name, day)"
   ]
  },
  {
   "cell_type": "code",
   "execution_count": null,
   "metadata": {},
   "outputs": [],
   "source": [
    "# 스칼라, 벡터, array, 텐서\n",
    "\n",
    "a = 1   #스칼라 \n",
    "a=[1]   #벡터 = 리스트. 방향과 크기를 갖고 있음. (방향과 크기를 가진 스칼라의 집합)\n",
    "a = [[1,2,3], [2,3,4]]  #array = [리스트]\n",
    "\n",
    "a= [[[1,2,3], [2,3,4]]] #텐서(텐서 - 두 개 이상의 array 의 집합체. )\n"
   ]
  },
  {
   "cell_type": "markdown",
   "metadata": {},
   "source": [
    "### 리스트는 안에 들어가는 자료의 세트가 같아야함.\n",
    " - 스칼라 하나하나에 연산 불가능.\n",
    "\n",
    "### 리스트가 아닌 array라면 [ [ ] , [ ] ]\n",
    " - 연산 가능\n",
    " - array화 시킬 때는 하나가 문자열이면 다 문자열로 변환됨\n",
    " - 행렬\n",
    " - array 인덱싱! 중요!"
   ]
  },
  {
   "cell_type": "code",
   "execution_count": 18,
   "metadata": {},
   "outputs": [
    {
     "data": {
      "text/plain": [
       "[1, 2, 3, 3]"
      ]
     },
     "execution_count": 18,
     "metadata": {},
     "output_type": "execute_result"
    }
   ],
   "source": [
    "a=[1,2,3]\n",
    "a+[3] #리스트는 +(추가), *(반복)만 가능\n",
    "\n"
   ]
  },
  {
   "cell_type": "code",
   "execution_count": 20,
   "metadata": {},
   "outputs": [
    {
     "data": {
      "text/plain": [
       "array([[0, 2, 3],\n",
       "       [0, 5, 6]])"
      ]
     },
     "execution_count": 20,
     "metadata": {},
     "output_type": "execute_result"
    }
   ],
   "source": [
    "import numpy\n",
    "\n",
    "a = [[1, 2, 3],[4, 5, 6]]\n",
    "\n",
    "a = numpy.array(a)\n",
    "a[:,0] = 0\n",
    "a"
   ]
  },
  {
   "cell_type": "markdown",
   "metadata": {},
   "source": [
    "## 다차원 리스트 주의점\n",
    "- 일차원, 이차원, 삼차원.. 리스트의 경우\n",
    "- [] 안의 []는 하나의 리스트.\n",
    "    [[],[],[]] -> 원소가 각각의 [] 리스트.\n",
    "- .shape로 차원을 확인해야 함."
   ]
  }
 ],
 "metadata": {
  "kernelspec": {
   "display_name": "OpenAI",
   "language": "python",
   "name": "python3"
  },
  "language_info": {
   "codemirror_mode": {
    "name": "ipython",
    "version": 3
   },
   "file_extension": ".py",
   "mimetype": "text/x-python",
   "name": "python",
   "nbconvert_exporter": "python",
   "pygments_lexer": "ipython3",
   "version": "3.12.0"
  }
 },
 "nbformat": 4,
 "nbformat_minor": 2
}
