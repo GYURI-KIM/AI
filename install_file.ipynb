{
 "cells": [
  {
   "cell_type": "code",
   "execution_count": 1,
   "metadata": {},
   "outputs": [
    {
     "name": "stdout",
     "output_type": "stream",
     "text": [
      "Requirement already satisfied: numpy in c:\\users\\sori\\anaconda3\\lib\\site-packages (1.24.3)\n",
      "Note: you may need to restart the kernel to use updated packages.\n"
     ]
    }
   ],
   "source": [
    "%pip install numpy"
   ]
  },
  {
   "cell_type": "code",
   "execution_count": 2,
   "metadata": {},
   "outputs": [
    {
     "name": "stdout",
     "output_type": "stream",
     "text": [
      "Requirement already satisfied: pandas in c:\\users\\sori\\anaconda3\\lib\\site-packages (2.0.3)Note: you may need to restart the kernel to use updated packages.\n",
      "\n",
      "Requirement already satisfied: python-dateutil>=2.8.2 in c:\\users\\sori\\anaconda3\\lib\\site-packages (from pandas) (2.8.2)\n",
      "Requirement already satisfied: pytz>=2020.1 in c:\\users\\sori\\anaconda3\\lib\\site-packages (from pandas) (2023.3.post1)\n",
      "Requirement already satisfied: tzdata>=2022.1 in c:\\users\\sori\\anaconda3\\lib\\site-packages (from pandas) (2023.3)\n",
      "Requirement already satisfied: numpy>=1.21.0 in c:\\users\\sori\\anaconda3\\lib\\site-packages (from pandas) (1.24.3)\n",
      "Requirement already satisfied: six>=1.5 in c:\\users\\sori\\anaconda3\\lib\\site-packages (from python-dateutil>=2.8.2->pandas) (1.16.0)\n"
     ]
    }
   ],
   "source": [
    "%pip install pandas"
   ]
  },
  {
   "cell_type": "code",
   "execution_count": 3,
   "metadata": {},
   "outputs": [
    {
     "name": "stdout",
     "output_type": "stream",
     "text": [
      "Requirement already satisfied: matplotlib in c:\\users\\sori\\anaconda3\\lib\\site-packages (3.7.2)\n",
      "Requirement already satisfied: contourpy>=1.0.1 in c:\\users\\sori\\anaconda3\\lib\\site-packages (from matplotlib) (1.0.5)\n",
      "Requirement already satisfied: cycler>=0.10 in c:\\users\\sori\\anaconda3\\lib\\site-packages (from matplotlib) (0.11.0)\n",
      "Requirement already satisfied: fonttools>=4.22.0 in c:\\users\\sori\\anaconda3\\lib\\site-packages (from matplotlib) (4.25.0)\n",
      "Requirement already satisfied: kiwisolver>=1.0.1 in c:\\users\\sori\\anaconda3\\lib\\site-packages (from matplotlib) (1.4.4)\n",
      "Requirement already satisfied: numpy>=1.20 in c:\\users\\sori\\anaconda3\\lib\\site-packages (from matplotlib) (1.24.3)\n",
      "Requirement already satisfied: packaging>=20.0 in c:\\users\\sori\\anaconda3\\lib\\site-packages (from matplotlib) (23.1)\n",
      "Requirement already satisfied: pillow>=6.2.0 in c:\\users\\sori\\anaconda3\\lib\\site-packages (from matplotlib) (9.4.0)\n",
      "Requirement already satisfied: pyparsing<3.1,>=2.3.1 in c:\\users\\sori\\anaconda3\\lib\\site-packages (from matplotlib) (3.0.9)\n",
      "Requirement already satisfied: python-dateutil>=2.7 in c:\\users\\sori\\anaconda3\\lib\\site-packages (from matplotlib) (2.8.2)\n",
      "Requirement already satisfied: six>=1.5 in c:\\users\\sori\\anaconda3\\lib\\site-packages (from python-dateutil>=2.7->matplotlib) (1.16.0)\n",
      "Note: you may need to restart the kernel to use updated packages.\n"
     ]
    }
   ],
   "source": [
    "%pip install matplotlib"
   ]
  },
  {
   "cell_type": "code",
   "execution_count": 4,
   "metadata": {},
   "outputs": [
    {
     "name": "stdout",
     "output_type": "stream",
     "text": [
      "Requirement already satisfied: PILLOW in c:\\users\\sori\\anaconda3\\lib\\site-packages (9.4.0)\n",
      "Note: you may need to restart the kernel to use updated packages.\n"
     ]
    }
   ],
   "source": [
    "%pip install PILLOW"
   ]
  },
  {
   "cell_type": "code",
   "execution_count": 5,
   "metadata": {},
   "outputs": [
    {
     "name": "stdout",
     "output_type": "stream",
     "text": [
      "Collecting matplot\n",
      "  Downloading matplot-0.1.9-py2.py3-none-any.whl (5.0 kB)\n",
      "Collecting pyloco>=0.0.134 (from matplot)\n",
      "  Downloading pyloco-0.0.139-py2.py3-none-any.whl (60 kB)\n",
      "     ---------------------------------------- 0.0/60.2 kB ? eta -:--:--\n",
      "     ------ --------------------------------- 10.2/60.2 kB ? eta -:--:--\n",
      "     ------------------------- ------------ 41.0/60.2 kB 653.6 kB/s eta 0:00:01\n",
      "     -------------------------------------- 60.2/60.2 kB 793.3 kB/s eta 0:00:00\n",
      "Requirement already satisfied: matplotlib>=3.1.1 in c:\\users\\sori\\anaconda3\\lib\\site-packages (from matplot) (3.7.2)\n",
      "Requirement already satisfied: contourpy>=1.0.1 in c:\\users\\sori\\anaconda3\\lib\\site-packages (from matplotlib>=3.1.1->matplot) (1.0.5)\n",
      "Requirement already satisfied: cycler>=0.10 in c:\\users\\sori\\anaconda3\\lib\\site-packages (from matplotlib>=3.1.1->matplot) (0.11.0)\n",
      "Requirement already satisfied: fonttools>=4.22.0 in c:\\users\\sori\\anaconda3\\lib\\site-packages (from matplotlib>=3.1.1->matplot) (4.25.0)\n",
      "Requirement already satisfied: kiwisolver>=1.0.1 in c:\\users\\sori\\anaconda3\\lib\\site-packages (from matplotlib>=3.1.1->matplot) (1.4.4)\n",
      "Requirement already satisfied: numpy>=1.20 in c:\\users\\sori\\anaconda3\\lib\\site-packages (from matplotlib>=3.1.1->matplot) (1.24.3)\n",
      "Requirement already satisfied: packaging>=20.0 in c:\\users\\sori\\anaconda3\\lib\\site-packages (from matplotlib>=3.1.1->matplot) (23.1)\n",
      "Requirement already satisfied: pillow>=6.2.0 in c:\\users\\sori\\anaconda3\\lib\\site-packages (from matplotlib>=3.1.1->matplot) (9.4.0)\n",
      "Requirement already satisfied: pyparsing<3.1,>=2.3.1 in c:\\users\\sori\\anaconda3\\lib\\site-packages (from matplotlib>=3.1.1->matplot) (3.0.9)\n",
      "Requirement already satisfied: python-dateutil>=2.7 in c:\\users\\sori\\anaconda3\\lib\\site-packages (from matplotlib>=3.1.1->matplot) (2.8.2)\n",
      "Collecting ushlex (from pyloco>=0.0.134->matplot)\n",
      "  Downloading ushlex-0.99.1.tar.gz (4.7 kB)\n",
      "  Preparing metadata (setup.py): started\n",
      "  Preparing metadata (setup.py): finished with status 'done'\n",
      "Requirement already satisfied: websocket-client in c:\\users\\sori\\anaconda3\\lib\\site-packages (from pyloco>=0.0.134->matplot) (0.58.0)\n",
      "Collecting twine (from pyloco>=0.0.134->matplot)\n",
      "  Downloading twine-4.0.2-py3-none-any.whl (36 kB)\n",
      "Collecting typing (from pyloco>=0.0.134->matplot)\n",
      "  Downloading typing-3.7.4.3.tar.gz (78 kB)\n",
      "     ---------------------------------------- 0.0/78.6 kB ? eta -:--:--\n",
      "     ---------------------------------------- 78.6/78.6 kB 4.3 MB/s eta 0:00:00\n",
      "  Preparing metadata (setup.py): started\n",
      "  Preparing metadata (setup.py): finished with status 'done'\n",
      "Collecting SimpleWebSocketServer (from pyloco>=0.0.134->matplot)\n",
      "  Downloading SimpleWebSocketServer-0.1.2.tar.gz (10 kB)\n",
      "  Preparing metadata (setup.py): started\n",
      "  Preparing metadata (setup.py): finished with status 'done'\n",
      "Requirement already satisfied: six>=1.5 in c:\\users\\sori\\anaconda3\\lib\\site-packages (from python-dateutil>=2.7->matplotlib>=3.1.1->matplot) (1.16.0)\n",
      "Requirement already satisfied: pkginfo>=1.8.1 in c:\\users\\sori\\anaconda3\\lib\\site-packages (from twine->pyloco>=0.0.134->matplot) (1.9.6)\n",
      "Collecting readme-renderer>=35.0 (from twine->pyloco>=0.0.134->matplot)\n",
      "  Obtaining dependency information for readme-renderer>=35.0 from https://files.pythonhosted.org/packages/b5/7e/992e0e21b37cadd668226f75fef0aa81bf21c2426c98bc06a55e514cb323/readme_renderer-42.0-py3-none-any.whl.metadata\n",
      "  Downloading readme_renderer-42.0-py3-none-any.whl.metadata (2.8 kB)\n",
      "Requirement already satisfied: requests>=2.20 in c:\\users\\sori\\anaconda3\\lib\\site-packages (from twine->pyloco>=0.0.134->matplot) (2.31.0)\n",
      "Requirement already satisfied: requests-toolbelt!=0.9.0,>=0.8.0 in c:\\users\\sori\\anaconda3\\lib\\site-packages (from twine->pyloco>=0.0.134->matplot) (1.0.0)\n",
      "Requirement already satisfied: urllib3>=1.26.0 in c:\\users\\sori\\anaconda3\\lib\\site-packages (from twine->pyloco>=0.0.134->matplot) (1.26.16)\n",
      "Requirement already satisfied: importlib-metadata>=3.6 in c:\\users\\sori\\anaconda3\\lib\\site-packages (from twine->pyloco>=0.0.134->matplot) (6.0.0)\n",
      "Requirement already satisfied: keyring>=15.1 in c:\\users\\sori\\anaconda3\\lib\\site-packages (from twine->pyloco>=0.0.134->matplot) (23.13.1)\n",
      "Collecting rfc3986>=1.4.0 (from twine->pyloco>=0.0.134->matplot)\n",
      "  Downloading rfc3986-2.0.0-py2.py3-none-any.whl (31 kB)\n",
      "Collecting rich>=12.0.0 (from twine->pyloco>=0.0.134->matplot)\n",
      "  Obtaining dependency information for rich>=12.0.0 from https://files.pythonhosted.org/packages/be/be/1520178fa01eabe014b16e72a952b9f900631142ccd03dc36cf93e30c1ce/rich-13.7.0-py3-none-any.whl.metadata\n",
      "  Downloading rich-13.7.0-py3-none-any.whl.metadata (18 kB)\n",
      "Requirement already satisfied: zipp>=0.5 in c:\\users\\sori\\anaconda3\\lib\\site-packages (from importlib-metadata>=3.6->twine->pyloco>=0.0.134->matplot) (3.11.0)\n",
      "Requirement already satisfied: jaraco.classes in c:\\users\\sori\\anaconda3\\lib\\site-packages (from keyring>=15.1->twine->pyloco>=0.0.134->matplot) (3.2.1)\n",
      "Requirement already satisfied: pywin32-ctypes>=0.2.0 in c:\\users\\sori\\anaconda3\\lib\\site-packages (from keyring>=15.1->twine->pyloco>=0.0.134->matplot) (0.2.0)\n",
      "Collecting nh3>=0.2.14 (from readme-renderer>=35.0->twine->pyloco>=0.0.134->matplot)\n",
      "  Obtaining dependency information for nh3>=0.2.14 from https://files.pythonhosted.org/packages/6b/d2/93c8c82464d9562eae68b8e442c00d5a0d1c6a2d74478642d8bd22b45aee/nh3-0.2.15-cp37-abi3-win_amd64.whl.metadata\n",
      "  Downloading nh3-0.2.15-cp37-abi3-win_amd64.whl.metadata (1.8 kB)\n",
      "Requirement already satisfied: docutils>=0.13.1 in c:\\users\\sori\\anaconda3\\lib\\site-packages (from readme-renderer>=35.0->twine->pyloco>=0.0.134->matplot) (0.18.1)\n",
      "Requirement already satisfied: Pygments>=2.5.1 in c:\\users\\sori\\anaconda3\\lib\\site-packages (from readme-renderer>=35.0->twine->pyloco>=0.0.134->matplot) (2.15.1)\n",
      "Requirement already satisfied: charset-normalizer<4,>=2 in c:\\users\\sori\\anaconda3\\lib\\site-packages (from requests>=2.20->twine->pyloco>=0.0.134->matplot) (2.0.4)\n",
      "Requirement already satisfied: idna<4,>=2.5 in c:\\users\\sori\\anaconda3\\lib\\site-packages (from requests>=2.20->twine->pyloco>=0.0.134->matplot) (3.4)\n",
      "Requirement already satisfied: certifi>=2017.4.17 in c:\\users\\sori\\anaconda3\\lib\\site-packages (from requests>=2.20->twine->pyloco>=0.0.134->matplot) (2023.7.22)\n",
      "Requirement already satisfied: markdown-it-py>=2.2.0 in c:\\users\\sori\\anaconda3\\lib\\site-packages (from rich>=12.0.0->twine->pyloco>=0.0.134->matplot) (2.2.0)\n",
      "Requirement already satisfied: mdurl~=0.1 in c:\\users\\sori\\anaconda3\\lib\\site-packages (from markdown-it-py>=2.2.0->rich>=12.0.0->twine->pyloco>=0.0.134->matplot) (0.1.0)\n",
      "Requirement already satisfied: more-itertools in c:\\users\\sori\\anaconda3\\lib\\site-packages (from jaraco.classes->keyring>=15.1->twine->pyloco>=0.0.134->matplot) (8.12.0)\n",
      "Downloading readme_renderer-42.0-py3-none-any.whl (13 kB)\n",
      "Downloading rich-13.7.0-py3-none-any.whl (240 kB)\n",
      "   ---------------------------------------- 0.0/240.6 kB ? eta -:--:--\n",
      "   ---------------------------------------- 240.6/240.6 kB 7.4 MB/s eta 0:00:00\n",
      "Downloading nh3-0.2.15-cp37-abi3-win_amd64.whl (563 kB)\n",
      "   ---------------------------------------- 0.0/563.7 kB ? eta -:--:--\n",
      "   ------------------------------------- - 542.7/563.7 kB 11.3 MB/s eta 0:00:01\n",
      "   --------------------------------------- 563.7/563.7 kB 11.8 MB/s eta 0:00:00\n",
      "Building wheels for collected packages: SimpleWebSocketServer, typing, ushlex\n",
      "  Building wheel for SimpleWebSocketServer (setup.py): started\n",
      "  Building wheel for SimpleWebSocketServer (setup.py): finished with status 'done'\n",
      "  Created wheel for SimpleWebSocketServer: filename=SimpleWebSocketServer-0.1.2-py3-none-any.whl size=9686 sha256=705afa7e416d74982223249d8e80b2c7af5e2509274d20a81d7449be9a0eb019\n",
      "  Stored in directory: c:\\users\\sori\\appdata\\local\\pip\\cache\\wheels\\e7\\4d\\d6\\386351cf1f926ad0e48873adcbaabf09bb05ff2d0b9ed2cc91\n",
      "  Building wheel for typing (setup.py): started\n",
      "  Building wheel for typing (setup.py): finished with status 'done'\n",
      "  Created wheel for typing: filename=typing-3.7.4.3-py3-none-any.whl size=26325 sha256=b34cd37217d551b61a5aa68ac01e4601d82aa4126aa940cebe5abfbf8b699931\n",
      "  Stored in directory: c:\\users\\sori\\appdata\\local\\pip\\cache\\wheels\\9d\\67\\2f\\53e3ef32ec48d11d7d60245255e2d71e908201d20c880c08ee\n",
      "  Building wheel for ushlex (setup.py): started\n",
      "  Building wheel for ushlex (setup.py): finished with status 'done'\n",
      "  Created wheel for ushlex: filename=ushlex-0.99.1-py3-none-any.whl size=4401 sha256=dc33663fd37f83367a6898332436313654755b1bd12477633168de0589ee9127\n",
      "  Stored in directory: c:\\users\\sori\\appdata\\local\\pip\\cache\\wheels\\2e\\48\\44\\fed44e2a0643b96307111dcd72be5ae027d04ebb671cc51e5d\n",
      "Successfully built SimpleWebSocketServer typing ushlex\n",
      "Installing collected packages: ushlex, SimpleWebSocketServer, nh3, typing, rfc3986, readme-renderer, rich, twine, pyloco, matplot\n",
      "Successfully installed SimpleWebSocketServer-0.1.2 matplot-0.1.9 nh3-0.2.15 pyloco-0.0.139 readme-renderer-42.0 rfc3986-2.0.0 rich-13.7.0 twine-4.0.2 typing-3.7.4.3 ushlex-0.99.1\n",
      "Note: you may need to restart the kernel to use updated packages.\n"
     ]
    }
   ],
   "source": [
    "%pip install matplot"
   ]
  },
  {
   "cell_type": "code",
   "execution_count": null,
   "metadata": {},
   "outputs": [],
   "source": []
  }
 ],
 "metadata": {
  "kernelspec": {
   "display_name": "base",
   "language": "python",
   "name": "python3"
  },
  "language_info": {
   "codemirror_mode": {
    "name": "ipython",
    "version": 3
   },
   "file_extension": ".py",
   "mimetype": "text/x-python",
   "name": "python",
   "nbconvert_exporter": "python",
   "pygments_lexer": "ipython3",
   "version": "3.11.5"
  }
 },
 "nbformat": 4,
 "nbformat_minor": 2
}
